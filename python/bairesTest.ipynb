{
 "cells": [
  {
   "cell_type": "code",
   "execution_count": 4,
   "metadata": {},
   "outputs": [],
   "source": [
    "import numpy as np\n",
    "import matplotlib.pyplot as plt\n",
    "import pandas as pd"
   ]
  },
  {
   "cell_type": "code",
   "execution_count": 28,
   "metadata": {},
   "outputs": [
    {
     "name": "stdout",
     "output_type": "stream",
     "text": [
      "['a', 'b', 'c', 'd', 'e', 'f']\n",
      "abcdef\n",
      "abcdef\n",
      "abcdef\n",
      "['k', 'p', 'q', 's', 'u', 'v', 'y']\n",
      "kpqsuvy\n",
      "kpqsuvy\n",
      "kpqsuvy\n"
     ]
    }
   ],
   "source": [
    "def sort_code(s):\n",
    "    # Convert the string to a list of characters, sort them, and then join back into a string\n",
    "    sorted_string = ''.join(sorted(s))\n",
    "    print(sorted(s))\n",
    "    print(''.join(sorted(s)))\n",
    "    print(sorted_string)\n",
    "    return sorted_string\n",
    "\n",
    "# Example usage:\n",
    "print(sort_code(\"acbdfe\"))  # Output: \"abcdef\"\n",
    "print(sort_code(\"pqksuvy\")) # Output: \"kpqsuvy\""
   ]
  },
  {
   "cell_type": "code",
   "execution_count": 29,
   "metadata": {},
   "outputs": [
    {
     "name": "stdout",
     "output_type": "stream",
     "text": [
      "[2, 4, 3, 1]\n",
      "[2, 2, 2, 2, 2, 1, 7]\n"
     ]
    }
   ],
   "source": [
    "def rank_array(scores):\n",
    "    # Create a list of tuples containing the score and its original index\n",
    "    indexed_scores = [(score, i) for i, score in enumerate(scores)]\n",
    "    \n",
    "    # Sort the indexed scores in descending order based on the score\n",
    "    indexed_scores.sort(reverse=True, key=lambda x: x[0])\n",
    "    \n",
    "    # Initialize the ranks list\n",
    "    ranks = [0] * len(scores)\n",
    "    current_rank = 1\n",
    "    \n",
    "    # Assign ranks, handling ties\n",
    "    for i in range(len(indexed_scores)):\n",
    "        if i > 0 and indexed_scores[i][0] != indexed_scores[i-1][0]:\n",
    "            current_rank = i + 1\n",
    "        ranks[indexed_scores[i][1]] = current_rank\n",
    "    \n",
    "    return ranks\n",
    "\n",
    "# Example usage:\n",
    "print(rank_array([9, 3, 6, 10]))  # Output: [2, 4, 3, 1]\n",
    "print(rank_array([3, 3, 3, 3, 3, 5, 1]))  # Output: [2, 2, 2, 2, 2, 1, 3]"
   ]
  },
  {
   "cell_type": "code",
   "execution_count": 41,
   "metadata": {},
   "outputs": [
    {
     "name": "stdout",
     "output_type": "stream",
     "text": [
      "[2, 4, 3, 1]\n",
      "[2, 2, 2, 2, 2, 1, 7]\n"
     ]
    }
   ],
   "source": [
    "def rank_array(scores):\n",
    "    # Create a list of tuples containing the score and its original index\n",
    "    indexed_scores = [(score, i) for i, score in enumerate(scores)]\n",
    "    \n",
    "    # Sort the indexed scores in descending order based on the score\n",
    "    indexed_scores.sort(reverse=True, key=lambda x: x[0])\n",
    "    \n",
    "    # Initialize the ranks list\n",
    "    ranks = [0] * len(scores)\n",
    "    current_rank = 1\n",
    "    \n",
    "    # Assign ranks, handling ties\n",
    "    for i in range(len(indexed_scores)):\n",
    "        if i > 0 and indexed_scores[i][0] != indexed_scores[i-1][0]:\n",
    "            current_rank = i + 1\n",
    "        ranks[indexed_scores[i][1]] = current_rank\n",
    "    \n",
    "    return ranks\n",
    "\n",
    "print(rank_array([9, 3, 6, 10]))  # Output: [2, 4, 3, 1]\n",
    "print(rank_array([3, 3, 3, 3, 3, 5, 1]))  # Output: [2, 2, 2, 2, 2, 1, 3]"
   ]
  },
  {
   "cell_type": "code",
   "execution_count": 36,
   "metadata": {},
   "outputs": [
    {
     "name": "stdout",
     "output_type": "stream",
     "text": [
      "[(9, 0), (3, 1), (6, 2), (10, 3)]\n",
      "[(10, 3), (9, 0), (6, 2), (3, 1)]\n"
     ]
    }
   ],
   "source": [
    "scores = [9, 3, 6, 10]\n",
    "indexed_scores = [(score, i) for i, score in enumerate(scores)]\n",
    "print(indexed_scores)\n",
    "indexed_scores.sort(reverse=True, key=lambda x: x[0])\n",
    "print(indexed_scores)"
   ]
  },
  {
   "cell_type": "code",
   "execution_count": 42,
   "metadata": {},
   "outputs": [],
   "source": [
    "def rank_array(scores):\n",
    "  \"\"\"\n",
    "  Calcula as classificações de um array de pontuações.\n",
    "\n",
    "  Args:\n",
    "    scores: O array de pontuações.\n",
    "\n",
    "  Returns:\n",
    "    O array de classificações correspondentes.\n",
    "  \"\"\"\n",
    "\n",
    "  # 1. Ordenar as pontuações em ordem decrescente\n",
    "  sorted_scores = sorted(scores, reverse=True)\n",
    "\n",
    "  # 2. Criar um dicionário para mapear pontuações para classificações\n",
    "  rank_map = {}\n",
    "  rank = 1\n",
    "  for score in sorted_scores:\n",
    "    if score not in rank_map:\n",
    "      rank_map[score] = rank\n",
    "      rank += 1\n",
    "\n",
    "  # 3. Criar o array de classificações usando o dicionário\n",
    "  ranks = [rank_map[score] for score in scores]\n",
    "\n",
    "  return ranks\n"
   ]
  },
  {
   "cell_type": "code",
   "execution_count": null,
   "metadata": {},
   "outputs": [],
   "source": [
    "  sorted_scores = sorted(scores, reverse=True)\n",
    "\n",
    "  rank_map = {}\n",
    "  rank = 1\n",
    "  for score in sorted_scores:\n",
    "    if score not in rank_map:\n",
    "      rank_map[score] = rank\n",
    "      rank += 1\n",
    "\n",
    "  ranks = [rank_map[score] for score in scores]\n",
    "\n",
    "  return ranks"
   ]
  },
  {
   "cell_type": "code",
   "execution_count": 43,
   "metadata": {},
   "outputs": [
    {
     "name": "stdout",
     "output_type": "stream",
     "text": [
      "[2, 4, 3, 1]\n",
      "[2, 2, 2, 2, 2, 1, 3]\n"
     ]
    }
   ],
   "source": [
    "\n",
    "# Exemplo de uso\n",
    "entrada = [9, 3, 6, 10]\n",
    "saida = rank_array(entrada)\n",
    "print(saida)  # Saída: [2, 4, 3, 1]\n",
    "\n",
    "entrada2 = [3, 3, 3, 3, 3, 5, 1]\n",
    "saida2 = rank_array(entrada2)\n",
    "print(saida2) # Saída: [2, 2, 2, 2, 2, 1, 3]"
   ]
  },
  {
   "cell_type": "code",
   "execution_count": null,
   "metadata": {},
   "outputs": [
    {
     "name": "stdout",
     "output_type": "stream",
     "text": [
      "50\n",
      "256\n",
      "246\n"
     ]
    }
   ],
   "source": [
    "def count_ip_addresses(first, last):\n",
    "\n",
    "  def ip_to_int(ip):\n",
    "    \"\"\"Converte um lastereço IPv4 em um inteiro.\"\"\"\n",
    "    parts = list(map(int, ip.split('.')))\n",
    "    return (parts[0] << 24) + (parts[1] << 16) + (parts[2] << 8) + parts[3]\n",
    "\n",
    "  first_int = ip_to_int(first)\n",
    "  last_int = ip_to_int(last)\n",
    "\n",
    "  return last_int - first_int\n",
    "\n",
    "# Exemplo de uso\n",
    "entrada_first = \"10.0.0.0\"\n",
    "entrada_last = \"10.0.0.50\"\n",
    "saida = count_ip_addresses(entrada_first, entrada_last)\n",
    "print(saida)  # Saída: 50\n",
    "\n",
    "entrada_first2 = \"10.0.0.0\"\n",
    "entrada_last2 = \"10.0.1.0\"\n",
    "saida2 = count_ip_addresses(entrada_first2, entrada_last2)\n",
    "print(saida2) # Saída: 256\n",
    "\n",
    "entrada_first3 = \"20.0.0.10\"\n",
    "entrada_last3 = \"20.0.1.0\"\n",
    "saida3 = count_ip_addresses(entrada_first3, entrada_last3)\n",
    "print(saida3) # Saída: 246"
   ]
  },
  {
   "cell_type": "code",
   "execution_count": 48,
   "metadata": {},
   "outputs": [
    {
     "data": {
      "text/plain": [
       "272"
      ]
     },
     "execution_count": 48,
     "metadata": {},
     "output_type": "execute_result"
    }
   ],
   "source": [
    "# explain this code:\n",
    "34 << 3"
   ]
  }
 ],
 "metadata": {
  "kernelspec": {
   "display_name": "3.13.2",
   "language": "python",
   "name": "python3"
  },
  "language_info": {
   "codemirror_mode": {
    "name": "ipython",
    "version": 3
   },
   "file_extension": ".py",
   "mimetype": "text/x-python",
   "name": "python",
   "nbconvert_exporter": "python",
   "pygments_lexer": "ipython3",
   "version": "3.13.2"
  }
 },
 "nbformat": 4,
 "nbformat_minor": 2
}
